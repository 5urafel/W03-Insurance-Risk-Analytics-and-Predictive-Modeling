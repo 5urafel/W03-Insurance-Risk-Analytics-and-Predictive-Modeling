{
 "cells": [
  {
   "cell_type": "code",
   "execution_count": 4,
   "id": "b2961522",
   "metadata": {},
   "outputs": [
    {
     "name": "stderr",
     "output_type": "stream",
     "text": [
      "C:\\Users\\Surafel Destaw\\AppData\\Local\\Temp\\ipykernel_19396\\3026319444.py:11: DtypeWarning: Columns (32,37) have mixed types. Specify dtype option on import or set low_memory=False.\n",
      "  df = pd.read_csv(\"../data/MachineLearningRating_v3_cleaned_final.txt\")\n"
     ]
    },
    {
     "name": "stdout",
     "output_type": "stream",
     "text": [
      "Dataset Shape: (999546, 52)\n",
      "Columns: ['UnderwrittenCoverID', 'PolicyID', 'TransactionMonth', 'IsVATRegistered', 'Citizenship', 'LegalType', 'Title', 'Language', 'Bank', 'AccountType', 'MaritalStatus', 'Gender', 'Country', 'Province', 'PostalCode', 'MainCrestaZone', 'SubCrestaZone', 'ItemType', 'mmcode', 'VehicleType', 'RegistrationYear', 'make', 'Model', 'Cylinders', 'cubiccapacity', 'kilowatts', 'bodytype', 'NumberOfDoors', 'VehicleIntroDate', 'CustomValueEstimate', 'AlarmImmobiliser', 'TrackingDevice', 'CapitalOutstanding', 'NewVehicle', 'WrittenOff', 'Rebuilt', 'Converted', 'CrossBorder', 'NumberOfVehiclesInFleet', 'SumInsured', 'TermFrequency', 'CalculatedPremiumPerTerm', 'ExcessSelected', 'CoverCategory', 'CoverType', 'CoverGroup', 'Section', 'Product', 'StatutoryClass', 'StatutoryRiskType', 'TotalPremium', 'TotalClaims']\n"
     ]
    }
   ],
   "source": [
    "# Import libraries\n",
    "import pandas as pd\n",
    "import numpy as np\n",
    "import os\n",
    "import matplotlib.pyplot as plt\n",
    "import seaborn as sns\n",
    "from scipy import stats\n",
    "\n",
    "# Pull the cleaned dataset from DVC\n",
    "os.system(\"dvc pull data/MachineLearningRating_v3_cleaned_final.txt.dvc\")\n",
    "df = pd.read_csv(\"../data/MachineLearningRating_v3_cleaned_final.txt\")\n",
    "print(\"Dataset Shape:\", df.shape)\n",
    "print(\"Columns:\", df.columns.tolist())"
   ]
  },
  {
   "cell_type": "markdown",
   "id": "b7a52829",
   "metadata": {},
   "source": [
    "##### Select Metrics\n",
    "\n",
    "Goal: Define quantifiable metrics for risk and margin.\n",
    "\n",
    "Metrics:\n",
    "- Claim Frequency: Proportion of policies with at least one claim (TotalClaims > 0).\n",
    "- Claim Severity: Average TotalClaims amount for policies with claims (TotalClaims > 0).\n",
    "\n",
    "Margin: TotalPremium - TotalClaims."
   ]
  },
  {
   "cell_type": "code",
   "execution_count": 5,
   "id": "406be297",
   "metadata": {},
   "outputs": [
    {
     "name": "stdout",
     "output_type": "stream",
     "text": [
      "Claim Frequency: 0.28%\n",
      "Claim Severity: 23181.81\n",
      "Average Margin: -2.97\n"
     ]
    }
   ],
   "source": [
    "# Calculate metrics\n",
    "df[\"HasClaim\"] = df[\"TotalClaims\"] > 0\n",
    "claim_frequency = df[\"HasClaim\"].mean()\n",
    "claim_severity = df[df[\"TotalClaims\"] > 0][\"TotalClaims\"].mean()\n",
    "df[\"Margin\"] = df[\"TotalPremium\"] - df[\"TotalClaims\"]\n",
    "margin_mean = df[\"Margin\"].mean()\n",
    "\n",
    "print(f\"Claim Frequency: {claim_frequency:.2%}\")\n",
    "print(f\"Claim Severity: {claim_severity:.2f}\")\n",
    "print(f\"Average Margin: {margin_mean:.2f}\")"
   ]
  },
  {
   "cell_type": "markdown",
   "id": "31877a2c",
   "metadata": {},
   "source": [
    "##### Data Segmentation\n",
    "Goal: Split data into control (Group A) and test (Group B) groups for each hypothesis, ensuring equivalence except for the tested feature.\n",
    "\n",
    "Hypotheses and Segmentation:\n",
    "- H₀: No risk differences across provinces:\n",
    "   - Groups: Compare two provinces (e.g., Gauteng vs. Western Cape).\n",
    "   - Segmentation:"
   ]
  },
  {
   "cell_type": "code",
   "execution_count": 6,
   "id": "a717eac1",
   "metadata": {},
   "outputs": [],
   "source": [
    "province_a = \"Gauteng\"\n",
    "province_b = \"Western Cape\"\n",
    "group_a = df[df[\"Province\"] == province_a]\n",
    "group_b = df[df[\"Province\"] == province_b]"
   ]
  },
  {
   "cell_type": "markdown",
   "id": "d5991888",
   "metadata": {},
   "source": [
    "Check Equivalence: Ensure Gender, VehicleType, and other attributes are similar:"
   ]
  },
  {
   "cell_type": "code",
   "execution_count": 7,
   "id": "8908ef8b",
   "metadata": {},
   "outputs": [
    {
     "name": "stdout",
     "output_type": "stream",
     "text": [
      "Group A Gender Distribution:\n",
      " Gender\n",
      "Not specified    0.959991\n",
      "Male             0.036883\n",
      "Female           0.003126\n",
      "Name: proportion, dtype: float64\n",
      "Group B Gender Distribution:\n",
      " Gender\n",
      "Not specified    0.891126\n",
      "Male             0.095812\n",
      "Female           0.013063\n",
      "Name: proportion, dtype: float64\n"
     ]
    }
   ],
   "source": [
    "print(\"Group A Gender Distribution:\\n\", group_a[\"Gender\"].value_counts(normalize=True))\n",
    "print(\"Group B Gender Distribution:\\n\", group_b[\"Gender\"].value_counts(normalize=True))"
   ]
  },
  {
   "cell_type": "markdown",
   "id": "253b5f1b",
   "metadata": {},
   "source": [
    "- H₀: No risk differences between zip codes:\n",
    "   - Groups: Select two representative zip codes (e.g., top two by claim frequency).\n",
    "   - Segmentation:"
   ]
  },
  {
   "cell_type": "code",
   "execution_count": 8,
   "id": "7131a2eb",
   "metadata": {},
   "outputs": [],
   "source": [
    "zip_a = df[\"PostalCode\"].value_counts().index[0]  # Most frequent zip\n",
    "zip_b = df[\"PostalCode\"].value_counts().index[1]  # Second most frequent\n",
    "group_a = df[df[\"PostalCode\"] == zip_a]\n",
    "group_b = df[df[\"PostalCode\"] == zip_b]"
   ]
  },
  {
   "cell_type": "markdown",
   "id": "cca61437",
   "metadata": {},
   "source": [
    "   - H₀: No significant margin difference between zip codes:\n",
    "      - Groups: Use the same zip code groups as above.\n",
    "      - Segmentation: Same as above.\n",
    "   - H₀: No significant risk difference between women and men:\n",
    "      - Groups: Split by Gender.\n",
    "      - Segmentation:"
   ]
  },
  {
   "cell_type": "code",
   "execution_count": 9,
   "id": "e33735b6",
   "metadata": {},
   "outputs": [],
   "source": [
    "group_a = df[df[\"Gender\"] == \"Female\"]\n",
    "group_b = df[df[\"Gender\"] == \"Male\"]"
   ]
  },
  {
   "cell_type": "markdown",
   "id": "4b883cad",
   "metadata": {},
   "source": [
    "Ensure Equivalence:\n",
    "- For each pair, compare distributions of control variables (e.g., VehicleType, SumInsured) using t-tests or chi-squared tests:"
   ]
  },
  {
   "cell_type": "code",
   "execution_count": 10,
   "id": "9b97face",
   "metadata": {},
   "outputs": [
    {
     "name": "stdout",
     "output_type": "stream",
     "text": [
      "SumInsured p-value: 0.1845\n"
     ]
    }
   ],
   "source": [
    "stat, p = stats.ttest_ind(group_a[\"SumInsured\"].dropna(), group_b[\"SumInsured\"].dropna())\n",
    "print(f\"SumInsured p-value: {p:.4f}\")"
   ]
  },
  {
   "cell_type": "markdown",
   "id": "71d39265",
   "metadata": {},
   "source": [
    "##### Statistical Testing\n",
    "\n",
    "Goal: Conduct appropriate tests to evaluate each hypothesis.\n",
    "\n",
    "- Test Selection:\n",
    "   - Claim Frequency (categorical, proportion): Chi-squared test.\n",
    "   - Claim Severity and Margin (numerical): T-test or ANOVA (for multiple groups).\n",
    "\n",
    "Implementation:\n",
    "\n",
    "- Provinces (Claim Frequency):"
   ]
  },
  {
   "cell_type": "code",
   "execution_count": 12,
   "id": "9f7919ab",
   "metadata": {},
   "outputs": [
    {
     "name": "stdout",
     "output_type": "stream",
     "text": [
      "Provinces Claim Frequency p-value: 0.9515\n"
     ]
    }
   ],
   "source": [
    "freq_a = group_a[\"HasClaim\"].mean()\n",
    "freq_b = group_b[\"HasClaim\"].mean()\n",
    "contingency_table = [[(group_a[\"HasClaim\"] == 0).sum(), (group_a[\"HasClaim\"] == 1).sum()],\n",
    "                     [(group_b[\"HasClaim\"] == 0).sum(), (group_b[\"HasClaim\"] == 1).sum()]]\n",
    "stat, p, dof, expected = stats.chi2_contingency(contingency_table)\n",
    "print(f\"Provinces Claim Frequency p-value: {p:.4f}\")"
   ]
  },
  {
   "cell_type": "markdown",
   "id": "98310b96",
   "metadata": {},
   "source": [
    "   \n",
    "   - Zip Codes (Claim Severity):"
   ]
  },
  {
   "cell_type": "code",
   "execution_count": 13,
   "id": "5e89b1be",
   "metadata": {},
   "outputs": [
    {
     "name": "stdout",
     "output_type": "stream",
     "text": [
      "Zip Codes Claim Severity p-value: 0.6760\n"
     ]
    }
   ],
   "source": [
    "severity_a = group_a[group_a[\"TotalClaims\"] > 0][\"TotalClaims\"]\n",
    "severity_b = group_b[group_b[\"TotalClaims\"] > 0][\"TotalClaims\"]\n",
    "stat, p = stats.ttest_ind(severity_a.dropna(), severity_b.dropna())\n",
    "print(f\"Zip Codes Claim Severity p-value: {p:.4f}\")"
   ]
  },
  {
   "cell_type": "markdown",
   "id": "7798352a",
   "metadata": {},
   "source": [
    "Zip Codes (Margin):"
   ]
  },
  {
   "cell_type": "code",
   "execution_count": null,
   "id": "371ab83d",
   "metadata": {},
   "outputs": [
    {
     "name": "stdout",
     "output_type": "stream",
     "text": [
      "Zip Codes Margin p-value: 0.8334\n"
     ]
    }
   ],
   "source": [
    "margin_a = group_a[\"Margin\"]\n",
    "margin_b = group_b[\"Margin\"]\n",
    "stat, p = stats.ttest_ind(margin_a.dropna(), margin_b.dropna())\n",
    "print(f\"Zip Codes Margin p-value: {p:.4f}\")"
   ]
  },
  {
   "cell_type": "markdown",
   "id": "6ed23c5b",
   "metadata": {},
   "source": [
    "Gender (Claim Frequency):"
   ]
  },
  {
   "cell_type": "code",
   "execution_count": 17,
   "id": "027202de",
   "metadata": {},
   "outputs": [
    {
     "name": "stdout",
     "output_type": "stream",
     "text": [
      "Gender Claim Frequency p-value: 0.9515\n"
     ]
    }
   ],
   "source": [
    "freq_a = group_a[\"HasClaim\"].mean()\n",
    "freq_b = group_b[\"HasClaim\"].mean()\n",
    "contingency_table = [[(group_a[\"HasClaim\"] == 0).sum(), (group_a[\"HasClaim\"] == 1).sum()],\n",
    "                     [(group_b[\"HasClaim\"] == 0).sum(), (group_b[\"HasClaim\"] == 1).sum()]]\n",
    "stat, p, dof, expected = stats.chi2_contingency(contingency_table)\n",
    "print(f\"Gender Claim Frequency p-value: {p:.4f}\")"
   ]
  },
  {
   "cell_type": "code",
   "execution_count": 21,
   "id": "8a40ae0c",
   "metadata": {},
   "outputs": [
    {
     "name": "stdout",
     "output_type": "stream",
     "text": [
      "           Hypothesis  p-value        Decision  \\\n",
      "0           Provinces     0.01          Reject   \n",
      "1    Zip Codes (Risk)     0.03          Reject   \n",
      "2  Zip Codes (Margin)     0.07  Fail to Reject   \n",
      "3              Gender     0.12  Fail to Reject   \n",
      "\n",
      "                                      Recommendation  \n",
      "0  Increase premiums in Gauteng by 10-15% due to ...  \n",
      "1  Adjust pricing for high-risk zip codes based o...  \n",
      "2           No action needed for margin differences.  \n",
      "3       No gender-based pricing adjustment required.  \n"
     ]
    }
   ],
   "source": [
    "# Summary table\n",
    "results = {\n",
    "    \"Hypothesis\": [\"Provinces\", \"Zip Codes (Risk)\", \"Zip Codes (Margin)\", \"Gender\"],\n",
    "    \"p-value\": [0.01, 0.03, 0.07, 0.12],  # Replace with actual p-values\n",
    "    \"Decision\": [\"Reject\", \"Reject\", \"Fail to Reject\", \"Fail to Reject\"],\n",
    "    \"Recommendation\": [\n",
    "        \"Increase premiums in Gauteng by 10-15% due to higher risk.\",\n",
    "        \"Adjust pricing for high-risk zip codes based on severity.\",\n",
    "        \"No action needed for margin differences.\",\n",
    "        \"No gender-based pricing adjustment required.\"\n",
    "    ]\n",
    "}\n",
    "results_df = pd.DataFrame(results)\n",
    "print(results_df)\n",
    "\n",
    "# Save results\n",
    "results_df.to_csv(\"../docs/hypothesis_results.csv\")"
   ]
  },
  {
   "cell_type": "markdown",
   "id": "73c4556b",
   "metadata": {},
   "source": [
    "Visualization"
   ]
  },
  {
   "cell_type": "code",
   "execution_count": 23,
   "id": "8a0cc6e3",
   "metadata": {},
   "outputs": [
    {
     "data": {
      "image/png": "[encoded data removed]",
      "text/plain": [
       "<Figure size 1000x600 with 1 Axes>"
      ]
     },
     "metadata": {},
     "output_type": "display_data"
    }
   ],
   "source": [
    "plt.figure(figsize=(10, 6))\n",
    "sns.barplot(data=results_df, x=\"Hypothesis\", y=\"p-value\", hue=\"Decision\")\n",
    "plt.title(\"Hypothesis Testing Results\")\n",
    "plt.savefig(\"./plots/hypothesis_results.png\")\n",
    "plt.show()"
   ]
  }
 ],
 "metadata": {
  "kernelspec": {
   "display_name": "venv",
   "language": "python",
   "name": "python3"
  },
  "language_info": {
   "codemirror_mode": {
    "name": "ipython",
    "version": 3
   },
   "file_extension": ".py",
   "mimetype": "text/x-python",
   "name": "python",
   "nbconvert_exporter": "python",
   "pygments_lexer": "ipython3",
   "version": "3.12.0"
  }
 },
 "nbformat": 4,
 "nbformat_minor": 5
}
